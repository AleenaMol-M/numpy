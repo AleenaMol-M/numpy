{
  "nbformat": 4,
  "nbformat_minor": 0,
  "metadata": {
    "colab": {
      "provenance": [],
      "authorship_tag": "ABX9TyOKHulX/23Ab2ZaOU15tcEb",
      "include_colab_link": true
    },
    "kernelspec": {
      "name": "python3",
      "display_name": "Python 3"
    },
    "language_info": {
      "name": "python"
    }
  },
  "cells": [
    {
      "cell_type": "markdown",
      "metadata": {
        "id": "view-in-github",
        "colab_type": "text"
      },
      "source": [
        "<a href=\"https://colab.research.google.com/github/AleenaMol-M/numpy/blob/main/numpy.ipynb\" target=\"_parent\"><img src=\"https://colab.research.google.com/assets/colab-badge.svg\" alt=\"Open In Colab\"/></a>"
      ]
    },
    {
      "cell_type": "code",
      "execution_count": null,
      "metadata": {
        "colab": {
          "base_uri": "https://localhost:8080/"
        },
        "id": "A8OOpkWLwBYz",
        "outputId": "5fd7b3d1-d7c8-4b7b-c7f8-5dcc705f943f"
      },
      "outputs": [
        {
          "output_type": "stream",
          "name": "stdout",
          "text": [
            "['1' '2' '3' '4' 'a']\n"
          ]
        }
      ],
      "source": [
        "import numpy as np #numpy-numerical python ,used to use advanced mathematical expressions\n",
        "\n",
        "#array-collection of data with same datatype(homogenious)\n",
        "a=np.array([1,2,3,4])\n",
        "a=np.array([1,2,3.0,4])#converted all elements to float\n",
        "a=np.array([1,2,3,4,\"a\"])#converted all elements to string\n",
        "print(a)"
      ]
    },
    {
      "cell_type": "code",
      "source": [
        "#slicing-forward slicing and backward slicing\n",
        "\n",
        "b=np.array([1,2,3,4,5])\n",
        "print(b)\n",
        "#print 1,2\n",
        "print(b[0:2])\n",
        "\n",
        "#print 5,4\n",
        "print(b[-1:-3:-1])\n",
        "\n",
        "#print 4,5\n",
        "print(b[3:])\n",
        "\n",
        "#print 2,1\n",
        "print(b[-4::-1])"
      ],
      "metadata": {
        "colab": {
          "base_uri": "https://localhost:8080/"
        },
        "id": "PKzVmkzzyF-m",
        "outputId": "f564af71-fea9-4a87-8f8d-80ac04cfbfa1"
      },
      "execution_count": null,
      "outputs": [
        {
          "output_type": "stream",
          "name": "stdout",
          "text": [
            "[1 2 3 4 5]\n",
            "[1 2]\n",
            "[5 4]\n",
            "[4 5]\n",
            "[2 1]\n"
          ]
        }
      ]
    },
    {
      "cell_type": "code",
      "source": [
        "#diamension\n",
        "a=np.array([0,1,5])\n",
        "a.ndim #ndim-to check dimension of an array\n",
        "#diamension=1 vector\n",
        "\n",
        "b=np.array([[1,2],[3,4]])\n",
        "b.ndim#diamension=2 -matrix\n",
        "print(b)\n",
        "print(b.shape)#to know shape of aray(rows and columns)\n",
        "\n",
        "\n",
        "c=np.array([[[1,2,3],[3,4,5]],[[3,4,8],[7,2,3]]])\n",
        "c.ndim#diamension=3 -tensor\n",
        "\n",
        "\n",
        "#3dimensional array-tensor"
      ],
      "metadata": {
        "id": "b3QEndZ50RDd",
        "colab": {
          "base_uri": "https://localhost:8080/"
        },
        "outputId": "150310e5-de22-4b10-d177-bfcd6ee2140e"
      },
      "execution_count": null,
      "outputs": [
        {
          "output_type": "stream",
          "name": "stdout",
          "text": [
            "[[1 2]\n",
            " [3 4]]\n",
            "(2, 2)\n"
          ]
        },
        {
          "output_type": "execute_result",
          "data": {
            "text/plain": [
              "3"
            ]
          },
          "metadata": {},
          "execution_count": 11
        }
      ]
    },
    {
      "cell_type": "code",
      "source": [
        "#create a 2x2 matrix 2,3,4,5\n",
        "a=np.array([[2,3],[4,5]])\n",
        "print(a)\n",
        "print(a.ndim)\n",
        "print(a.shape)\n",
        "print(a.size)#to find total no of elements in a matrix"
      ],
      "metadata": {
        "colab": {
          "base_uri": "https://localhost:8080/"
        },
        "id": "ujdGF27xnV1D",
        "outputId": "b8026fab-3ab4-4f1b-af6d-d65a76315f3a"
      },
      "execution_count": null,
      "outputs": [
        {
          "output_type": "stream",
          "name": "stdout",
          "text": [
            "[[2 3]\n",
            " [4 5]]\n",
            "2\n",
            "(2, 2)\n",
            "4\n"
          ]
        }
      ]
    },
    {
      "cell_type": "code",
      "source": [
        "#create a 2x3 matrix and print  the matrix,size,shape and dimension\n",
        "a=np.array([[2,3,4],[3,4,5]])\n",
        "print(a)\n",
        "print(a.size)\n",
        "print(a.shape)\n",
        "print(a.ndim)"
      ],
      "metadata": {
        "colab": {
          "base_uri": "https://localhost:8080/"
        },
        "id": "8i-3HT1QoZiL",
        "outputId": "42729d4f-28a4-4dbe-e1d2-c01e9fc0332e"
      },
      "execution_count": null,
      "outputs": [
        {
          "output_type": "stream",
          "name": "stdout",
          "text": [
            "[[2 3 4]\n",
            " [3 4 5]]\n",
            "6\n",
            "(2, 3)\n",
            "2\n"
          ]
        }
      ]
    },
    {
      "cell_type": "code",
      "source": [
        "#create a 4x2 matrix display its size ,shape ,dimension\n",
        "\n",
        "b=np.array([[1,2],[4,5],[3,4],[5,6]])\n",
        "print(b)\n",
        "print(b.size)\n",
        "print(b.shape)\n",
        "print(b.ndim)"
      ],
      "metadata": {
        "colab": {
          "base_uri": "https://localhost:8080/"
        },
        "id": "Tz_2URaapTbN",
        "outputId": "71f4b474-39f0-4114-d199-b422d1cb6e76"
      },
      "execution_count": null,
      "outputs": [
        {
          "output_type": "stream",
          "name": "stdout",
          "text": [
            "[[1 2]\n",
            " [4 5]\n",
            " [3 4]\n",
            " [5 6]]\n",
            "8\n",
            "(4, 2)\n",
            "2\n"
          ]
        }
      ]
    },
    {
      "cell_type": "code",
      "source": [
        "#create a 4x4 matrix\n",
        "import numpy as np\n",
        "c=np.array([[2,3,4,5],[1,2,3,4],[2,2,5,6],[5,6,7,8]])\n",
        "print(c)\n",
        "print(c.ndim)\n",
        "print(c.shape)\n",
        "print(c.size)"
      ],
      "metadata": {
        "colab": {
          "base_uri": "https://localhost:8080/"
        },
        "id": "UwBAIO4NqIx9",
        "outputId": "8c5228f2-3bd6-44ea-de31-a91dabe4e6c7"
      },
      "execution_count": null,
      "outputs": [
        {
          "output_type": "stream",
          "name": "stdout",
          "text": [
            "[[2 3 4 5]\n",
            " [1 2 3 4]\n",
            " [2 2 5 6]\n",
            " [5 6 7 8]]\n",
            "2\n",
            "(4, 4)\n",
            "16\n"
          ]
        }
      ]
    },
    {
      "cell_type": "code",
      "source": [
        "\n",
        "c[0]   #get 0th index of array c\n",
        "c[:,0] #get 0th column c[row:row,column]/c[row,column]\n",
        "c[0:2,0]#get 0 to 1st rows of 0th column\n",
        "\n",
        "c[1,1] #to get 2 from second row\n",
        "c[2,2]\n",
        "c[3,2:]#to get [7,8] from 3rd row of 2nd and 3rd column\n",
        "c[2:,2:]\n",
        "c[1,2]\n",
        "c[2:,1:3]\n",
        "c[1:3,3]\n",
        "c[1:3,0:3]\n",
        "c[0:3,1:]\n",
        "c[1:,]\n",
        "c[:,1]\n",
        "c[:,:]"
      ],
      "metadata": {
        "colab": {
          "base_uri": "https://localhost:8080/"
        },
        "id": "4cAViwZQe9TL",
        "outputId": "74e7eb7c-ac5c-4680-cee2-989e2382f9ff"
      },
      "execution_count": null,
      "outputs": [
        {
          "output_type": "execute_result",
          "data": {
            "text/plain": [
              "array([[2, 3, 4, 5],\n",
              "       [1, 2, 3, 4],\n",
              "       [2, 2, 5, 6],\n",
              "       [5, 6, 7, 8]])"
            ]
          },
          "metadata": {},
          "execution_count": 23
        }
      ]
    },
    {
      "cell_type": "code",
      "source": [
        "#zero matrix -all elements are zeros\n",
        "\n",
        "z=np.zeros([3,3])#3X3 matrix\n",
        "z=np.zeros([3,3,3],dtype=int)#dtype -convert datatype,3 3x3 matrix\n",
        "z=np.zeros([3,3,3],dtype=complex)#a+ib\n",
        "print(z)"
      ],
      "metadata": {
        "colab": {
          "base_uri": "https://localhost:8080/"
        },
        "id": "Wukm_U7pmRoh",
        "outputId": "7bd0dedb-5191-4475-b305-02aedcb1f897"
      },
      "execution_count": null,
      "outputs": [
        {
          "output_type": "stream",
          "name": "stdout",
          "text": [
            "[[[0.+0.j 0.+0.j 0.+0.j]\n",
            "  [0.+0.j 0.+0.j 0.+0.j]\n",
            "  [0.+0.j 0.+0.j 0.+0.j]]\n",
            "\n",
            " [[0.+0.j 0.+0.j 0.+0.j]\n",
            "  [0.+0.j 0.+0.j 0.+0.j]\n",
            "  [0.+0.j 0.+0.j 0.+0.j]]\n",
            "\n",
            " [[0.+0.j 0.+0.j 0.+0.j]\n",
            "  [0.+0.j 0.+0.j 0.+0.j]\n",
            "  [0.+0.j 0.+0.j 0.+0.j]]]\n"
          ]
        }
      ]
    },
    {
      "cell_type": "code",
      "source": [
        "z=np.zeros([2,3,3])#two 3x3 matrix\n",
        "print(z)"
      ],
      "metadata": {
        "colab": {
          "base_uri": "https://localhost:8080/"
        },
        "id": "sp-8enr_nfwH",
        "outputId": "ff8d2739-f088-4620-a53a-5ef44339e2e6"
      },
      "execution_count": null,
      "outputs": [
        {
          "output_type": "stream",
          "name": "stdout",
          "text": [
            "[[[0. 0. 0.]\n",
            "  [0. 0. 0.]\n",
            "  [0. 0. 0.]]\n",
            "\n",
            " [[0. 0. 0.]\n",
            "  [0. 0. 0.]\n",
            "  [0. 0. 0.]]]\n"
          ]
        }
      ]
    },
    {
      "cell_type": "code",
      "source": [
        "#one matrix-all elements are 1\n",
        "z=np.ones([3,3],dtype=int)\n",
        "z"
      ],
      "metadata": {
        "colab": {
          "base_uri": "https://localhost:8080/"
        },
        "id": "CNDO_2vvnobc",
        "outputId": "569d7399-ea2d-4090-9d6b-253c445df999"
      },
      "execution_count": null,
      "outputs": [
        {
          "output_type": "execute_result",
          "data": {
            "text/plain": [
              "array([[1, 1, 1],\n",
              "       [1, 1, 1],\n",
              "       [1, 1, 1]])"
            ]
          },
          "metadata": {},
          "execution_count": 33
        }
      ]
    },
    {
      "cell_type": "code",
      "source": [
        "#create two 2x2 matrix\n",
        "a=np.array([[1,2],[3,4]])\n",
        "b=np.array([[3,8],[9,8]])\n",
        "print(a)\n",
        "print(b)"
      ],
      "metadata": {
        "colab": {
          "base_uri": "https://localhost:8080/"
        },
        "id": "Zg6AUan6n5WA",
        "outputId": "34fcfc28-d4d4-451a-a7e6-0a91fb6eaa6f"
      },
      "execution_count": null,
      "outputs": [
        {
          "output_type": "stream",
          "name": "stdout",
          "text": [
            "[[1 2]\n",
            " [3 4]]\n",
            "[[3 8]\n",
            " [9 8]]\n"
          ]
        }
      ]
    },
    {
      "cell_type": "code",
      "source": [
        "#matrix operations\n",
        "\n",
        "\n",
        "#matrix addition\n",
        "print(a+b)\n",
        "\n",
        "#matrix subtraction\n",
        "print(a-b)\n",
        "\n",
        "#matrix multiplication\n",
        "\n",
        "#a*b is not matrix multiplication\n",
        "print(a@b)#matrix multiplication\n",
        "print(a.dot(b))#matrix multiplication\n",
        "\n",
        "#matrix division\n",
        "print(a/b)      #magic __add__()-mathod strting with __ are called magic"
      ],
      "metadata": {
        "colab": {
          "base_uri": "https://localhost:8080/"
        },
        "id": "RFc9yNCwr-j-",
        "outputId": "cc79538d-cf1d-4aed-ecf7-d289f72e5724"
      },
      "execution_count": null,
      "outputs": [
        {
          "output_type": "stream",
          "name": "stdout",
          "text": [
            "[[ 4 10]\n",
            " [12 12]]\n",
            "[[-2 -6]\n",
            " [-6 -4]]\n",
            "[[21 24]\n",
            " [45 56]]\n",
            "[[21 24]\n",
            " [45 56]]\n",
            "[[0.33333333 0.25      ]\n",
            " [0.33333333 0.5       ]]\n"
          ]
        }
      ]
    },
    {
      "cell_type": "code",
      "source": [
        "#full matrix-all elements are same\n",
        "\n",
        "z=np.full([3,3],4,dtype=int)#4 is the element\n",
        "z"
      ],
      "metadata": {
        "colab": {
          "base_uri": "https://localhost:8080/"
        },
        "id": "fLor4a1Xu9X9",
        "outputId": "8c1c8728-6b44-4928-8685-e85e32ecb57e"
      },
      "execution_count": null,
      "outputs": [
        {
          "output_type": "execute_result",
          "data": {
            "text/plain": [
              "array([[4, 4, 4],\n",
              "       [4, 4, 4],\n",
              "       [4, 4, 4]])"
            ]
          },
          "metadata": {},
          "execution_count": 45
        }
      ]
    },
    {
      "cell_type": "code",
      "source": [
        "#create a 3x4 matrix with value 9 and datatype complex\n",
        "\n",
        "a=np.full([3,4],9,dtype=complex)\n",
        "print(a)"
      ],
      "metadata": {
        "colab": {
          "base_uri": "https://localhost:8080/"
        },
        "id": "3luUpFZ8vmWC",
        "outputId": "3c0ec605-246b-46f0-e804-1d6a220a4d91"
      },
      "execution_count": null,
      "outputs": [
        {
          "output_type": "stream",
          "name": "stdout",
          "text": [
            "[[9.+0.j 9.+0.j 9.+0.j 9.+0.j]\n",
            " [9.+0.j 9.+0.j 9.+0.j 9.+0.j]\n",
            " [9.+0.j 9.+0.j 9.+0.j 9.+0.j]]\n"
          ]
        }
      ]
    },
    {
      "cell_type": "code",
      "source": [
        "#identity matrix-diagonal=1 and square matrix2\n",
        "import numpy as np\n",
        "z=np.identity(3,dtype=int)\n",
        "print(z)\n",
        "z=np.eye(3,dtype=int)\n",
        "print(z)"
      ],
      "metadata": {
        "id": "Fv68V867wJ2_",
        "colab": {
          "base_uri": "https://localhost:8080/"
        },
        "outputId": "43512d59-5d1b-4cf3-c5ed-b3f16c80b7b8"
      },
      "execution_count": null,
      "outputs": [
        {
          "output_type": "stream",
          "name": "stdout",
          "text": [
            "[[1 0 0]\n",
            " [0 1 0]\n",
            " [0 0 1]]\n",
            "[[1 0 0]\n",
            " [0 1 0]\n",
            " [0 0 1]]\n"
          ]
        }
      ]
    },
    {
      "cell_type": "code",
      "source": [
        "#create a 4x4 matrix\n",
        "z=np.array([[1,2,3,4],[2,3,4,5],[4,5,6,7],[7,4,2,2]])\n",
        "print(z)\n",
        "print(z.size)\n",
        "print(z.shape)"
      ],
      "metadata": {
        "colab": {
          "base_uri": "https://localhost:8080/"
        },
        "id": "HXCYwcdpa8Dr",
        "outputId": "970209f0-59b6-4b00-cc6e-309b76c70d6c"
      },
      "execution_count": null,
      "outputs": [
        {
          "output_type": "stream",
          "name": "stdout",
          "text": [
            "[[1 2 3 4]\n",
            " [2 3 4 5]\n",
            " [4 5 6 7]\n",
            " [7 4 2 2]]\n",
            "16\n",
            "(4, 4)\n"
          ]
        }
      ]
    },
    {
      "cell_type": "code",
      "source": [
        "a=z.reshape(16,1)#shape=16   (8,2)(16,1)(4,4)  #reshape to change shape\n",
        "print(a)"
      ],
      "metadata": {
        "colab": {
          "base_uri": "https://localhost:8080/"
        },
        "id": "eRyODP5Jbq4h",
        "outputId": "0044de5f-2590-440a-82c6-03f6383f0437"
      },
      "execution_count": null,
      "outputs": [
        {
          "output_type": "stream",
          "name": "stdout",
          "text": [
            "[[1]\n",
            " [2]\n",
            " [3]\n",
            " [4]\n",
            " [2]\n",
            " [3]\n",
            " [4]\n",
            " [5]\n",
            " [4]\n",
            " [5]\n",
            " [6]\n",
            " [7]\n",
            " [7]\n",
            " [4]\n",
            " [2]\n",
            " [2]]\n"
          ]
        }
      ]
    },
    {
      "cell_type": "code",
      "source": [
        "#arange-to create array of particular range of numbers\n",
        "a=np.arange(1,10,2)#(start,stop,step)\n",
        "a"
      ],
      "metadata": {
        "colab": {
          "base_uri": "https://localhost:8080/"
        },
        "id": "6DMdj-S-cjlh",
        "outputId": "a2fef527-48ff-41a8-b7b8-e432817a346f"
      },
      "execution_count": null,
      "outputs": [
        {
          "output_type": "execute_result",
          "data": {
            "text/plain": [
              "array([1, 3, 5, 7, 9])"
            ]
          },
          "metadata": {},
          "execution_count": 11
        }
      ]
    },
    {
      "cell_type": "code",
      "source": [
        "#create a 5x2 matrix using arange\n",
        "a=np.arange(1,11).reshape(5,2)\n",
        "print(a)"
      ],
      "metadata": {
        "colab": {
          "base_uri": "https://localhost:8080/"
        },
        "id": "zjazPzxlcx7a",
        "outputId": "b4ebb14c-8fd6-4435-cfbc-35d72ecdb7fb"
      },
      "execution_count": null,
      "outputs": [
        {
          "output_type": "stream",
          "name": "stdout",
          "text": [
            "[[ 1  2]\n",
            " [ 3  4]\n",
            " [ 5  6]\n",
            " [ 7  8]\n",
            " [ 9 10]]\n"
          ]
        }
      ]
    },
    {
      "cell_type": "code",
      "source": [
        "#create a 3x3 matrix with float values\n",
        "a=np.array([[1.5,2.3,3.0],[1.2,4.5,3.5],[2.7,6.5,2.4]])\n",
        "print(a)"
      ],
      "metadata": {
        "colab": {
          "base_uri": "https://localhost:8080/"
        },
        "id": "CIJijTRtd1fQ",
        "outputId": "b3a35223-2b94-403c-8191-0c2e97418c96"
      },
      "execution_count": null,
      "outputs": [
        {
          "output_type": "stream",
          "name": "stdout",
          "text": [
            "[[1.5 2.3 3. ]\n",
            " [1.2 4.5 3.5]\n",
            " [2.7 6.5 2.4]]\n"
          ]
        }
      ]
    },
    {
      "cell_type": "code",
      "source": [
        "#floor-round to lowest integer\n",
        "z=np.floor(a)\n",
        "print(z)\n"
      ],
      "metadata": {
        "colab": {
          "base_uri": "https://localhost:8080/"
        },
        "id": "ozlwuGdRiTwT",
        "outputId": "5d63f82c-8937-4108-d822-fe7c6056e917"
      },
      "execution_count": null,
      "outputs": [
        {
          "output_type": "stream",
          "name": "stdout",
          "text": [
            "[[1. 2. 3.]\n",
            " [1. 3. 1.]\n",
            " [2. 6. 2.]]\n"
          ]
        }
      ]
    },
    {
      "cell_type": "code",
      "source": [
        "#ceil-round to heighest integer\n",
        "z=np.ceil(a)\n",
        "print(z)"
      ],
      "metadata": {
        "colab": {
          "base_uri": "https://localhost:8080/"
        },
        "id": "Fk0TOMbpj7kX",
        "outputId": "c97a73f7-515f-484d-8c43-b91fc9e06dac"
      },
      "execution_count": null,
      "outputs": [
        {
          "output_type": "stream",
          "name": "stdout",
          "text": [
            "[[2. 3. 3.]\n",
            " [2. 4. 2.]\n",
            " [3. 7. 3.]]\n"
          ]
        }
      ]
    },
    {
      "cell_type": "code",
      "source": [
        "#round-to round numbers (.5 round towards even numbers)(4.5 ->4,3.5->4)\n",
        "z=np.round(a)\n",
        "print(z)"
      ],
      "metadata": {
        "colab": {
          "base_uri": "https://localhost:8080/"
        },
        "id": "KTQPPDFgkOpW",
        "outputId": "ccc9761a-cc82-4634-cc76-1d6802fa5e7c"
      },
      "execution_count": null,
      "outputs": [
        {
          "output_type": "stream",
          "name": "stdout",
          "text": [
            "[[2. 2. 3.]\n",
            " [1. 4. 4.]\n",
            " [3. 6. 2.]]\n"
          ]
        }
      ]
    },
    {
      "cell_type": "code",
      "source": [
        "#create a 3x3 matrix\n",
        "import numpy as np\n",
        "a=np.array([[1,2,3],[3,1,2],[1,2,3]])\n",
        "print(a)\n",
        "print(a.shape)\n",
        "\n",
        "#or\n",
        "\n",
        "b=np.arange(1,10).reshape(3,3)\n",
        "print(b)\n",
        "print(b.shape)\n",
        "print(b.max())\n",
        "print(b.max(axis=1))#max element in each row,axis=1 -row,axis=0-column in numpy\n",
        "print(b.max(axis=0))#maximum element in each column\n",
        "print(b.min())\n",
        "print(b.min(axis=1))\n",
        "print(b.min(axis=0))\n",
        "print(b.sum())\n",
        "print(b.sum(axis=1))\n",
        "print(b.sum(axis=0))\n",
        "np.sqrt(b)\n",
        "np.sin(b)\n",
        "np.cos(b)\n",
        "np.tan(b)"
      ],
      "metadata": {
        "colab": {
          "base_uri": "https://localhost:8080/"
        },
        "id": "aeSthZfjl5k7",
        "outputId": "664b6204-b08b-4e96-e8f2-afd32562919e"
      },
      "execution_count": 21,
      "outputs": [
        {
          "output_type": "stream",
          "name": "stdout",
          "text": [
            "[[1 2 3]\n",
            " [3 1 2]\n",
            " [1 2 3]]\n",
            "(3, 3)\n",
            "[[1 2 3]\n",
            " [4 5 6]\n",
            " [7 8 9]]\n",
            "(3, 3)\n",
            "9\n",
            "[3 6 9]\n",
            "[7 8 9]\n",
            "1\n",
            "[1 4 7]\n",
            "[1 2 3]\n",
            "45\n",
            "[ 6 15 24]\n",
            "[12 15 18]\n"
          ]
        },
        {
          "output_type": "execute_result",
          "data": {
            "text/plain": [
              "array([[ 1.55740772, -2.18503986, -0.14254654],\n",
              "       [ 1.15782128, -3.38051501, -0.29100619],\n",
              "       [ 0.87144798, -6.79971146, -0.45231566]])"
            ]
          },
          "metadata": {},
          "execution_count": 21
        }
      ]
    },
    {
      "cell_type": "code",
      "source": [
        "#flatten-to change matrix to one dimension\n",
        "b.flatten()"
      ],
      "metadata": {
        "colab": {
          "base_uri": "https://localhost:8080/"
        },
        "id": "6SFme4xzkDk0",
        "outputId": "f915645d-2ad9-4a42-884a-9e4efc68794f"
      },
      "execution_count": 9,
      "outputs": [
        {
          "output_type": "execute_result",
          "data": {
            "text/plain": [
              "array([1, 2, 3, 4, 5, 6, 7, 8, 9])"
            ]
          },
          "metadata": {},
          "execution_count": 9
        }
      ]
    },
    {
      "cell_type": "code",
      "source": [
        "#sort\n",
        "#create a 3x3 matrix\n",
        "\n",
        "a=np.array([[3,4,1],[4,6,7],[3,6,8]])\n",
        "print(a)\n",
        "print(a.sum())\n",
        "print(a.shape)\n",
        "b=np.sort(a,axis=0)#sort based on column\n",
        "c=np.sort(a,axis=1)#sort based on row\n",
        "print(c)\n",
        "d=np.argsort(a,axis=1)#based on index\n",
        "print(d)"
      ],
      "metadata": {
        "colab": {
          "base_uri": "https://localhost:8080/"
        },
        "id": "AI7FDXQCkDls",
        "outputId": "c3b76d8d-e306-49fa-c7a7-76e6d16f1851"
      },
      "execution_count": 20,
      "outputs": [
        {
          "output_type": "stream",
          "name": "stdout",
          "text": [
            "[[3 4 1]\n",
            " [4 6 7]\n",
            " [3 6 8]]\n",
            "42\n",
            "(3, 3)\n",
            "[[1 3 4]\n",
            " [4 6 7]\n",
            " [3 6 8]]\n",
            "[[2 0 1]\n",
            " [0 1 2]\n",
            " [0 1 2]]\n"
          ]
        }
      ]
    },
    {
      "cell_type": "code",
      "source": [],
      "metadata": {
        "id": "QbmMJLGhmvbe"
      },
      "execution_count": null,
      "outputs": []
    },
    {
      "cell_type": "code",
      "source": [],
      "metadata": {
        "id": "8dZmwue0kDon"
      },
      "execution_count": null,
      "outputs": []
    }
  ]
}